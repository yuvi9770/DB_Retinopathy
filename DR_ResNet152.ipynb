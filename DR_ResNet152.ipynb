{
  "cells": [
    {
      "cell_type": "code",
      "execution_count": null,
      "metadata": {
        "colab": {
          "base_uri": "https://localhost:8080/"
        },
        "id": "qdIGC3O3VxEk",
        "outputId": "7decb0d1-29a3-4e9d-f99f-2c6baa7eea03"
      },
      "outputs": [],
      "source": [
        "from google.colab import drive\n",
        "drive.mount(\"/content/drive\")"
      ]
    },
    {
      "cell_type": "markdown",
      "metadata": {
        "id": "PXHM9guwOi5w"
      },
      "source": [
        "Library"
      ]
    },
    {
      "cell_type": "code",
      "execution_count": null,
      "metadata": {
        "id": "zZq6iPp1WK0A"
      },
      "outputs": [],
      "source": [
        "import numpy as np\n",
        "import tensorflow as tf\n",
        "from tensorflow import keras\n",
        "from tensorflow. keras.models import Sequential\n",
        "from tensorflow. keras.layers import Activation, Dense, Flatten, BatchNormalization, Conv2D, MaxPool2D\n",
        "from tensorflow. keras. optimizers import Adam\n",
        "from tensorflow. keras.metrics import categorical_crossentropy\n",
        "from tensorflow. keras.preprocessing.image import ImageDataGenerator\n",
        "from sklearn.metrics import confusion_matrix\n",
        "from keras.preprocessing import image\n",
        "import pandas as pd\n",
        "import seaborn as sns\n",
        "import itertools\n",
        "import os\n",
        "import shutil\n",
        "import random\n",
        "import glob\n",
        "import matplotlib.pyplot as plt\n",
        "import warnings\n",
        "warnings.simplefilter (action='ignore', category=FutureWarning)\n",
        "%matplotlib inline\n"
      ]
    },
    {
      "cell_type": "code",
      "execution_count": null,
      "metadata": {
        "colab": {
          "base_uri": "https://localhost:8080/"
        },
        "id": "aE7ADH5aWRvH",
        "outputId": "dce92c6c-a8c9-49f8-c3d9-8579bc73800c"
      },
      "outputs": [],
      "source": [
        "import torch\n",
        "torch.cuda.is_available()\n",
        "# check for CUDA availability\n",
        "device = torch.device(\"cuda\" if torch.cuda.is_available() else \"cpu\")\n",
        "print(f\"Using device: {device}\")"
      ]
    },
    {
      "cell_type": "markdown",
      "metadata": {
        "id": "r9nNCuWPOm4P"
      },
      "source": [
        "Data Pre Processing"
      ]
    },
    {
      "cell_type": "code",
      "execution_count": null,
      "metadata": {
        "id": "GWRxZTExWRsb"
      },
      "outputs": [],
      "source": [
        "train_path = '/content/drive/MyDrive/project/train'\n",
        "valid_path = '/content/drive/MyDrive/project/val'\n",
        "test_path = '/content/drive/MyDrive/project/test'"
      ]
    },
    {
      "cell_type": "code",
      "execution_count": null,
      "metadata": {
        "colab": {
          "base_uri": "https://localhost:8080/"
        },
        "id": "NgmLFe6AWRqQ",
        "outputId": "4df5213c-096b-4a6b-d640-2d8eaf7a888f"
      },
      "outputs": [],
      "source": [
        "train_batches = ImageDataGenerator (preprocessing_function=tf.keras.applications.resnet.preprocess_input)\\\n",
        ".flow_from_directory (directory=train_path, target_size=(224,224), classes=['DR', 'No_DR'], batch_size=10)\n",
        "valid_batches = ImageDataGenerator (preprocessing_function=tf.keras.applications.resnet.preprocess_input)\\\n",
        ".flow_from_directory (directory=valid_path, target_size=(224,224), classes=['DR', 'No_DR'], batch_size=10)\n",
        "test_batches = ImageDataGenerator (preprocessing_function=tf.keras.applications.resnet.preprocess_input)\\\n",
        ".flow_from_directory (directory=test_path, target_size=(224,224), classes=['DR', 'No_DR'], batch_size=10, shuffle=False)"
      ]
    },
    {
      "cell_type": "code",
      "execution_count": null,
      "metadata": {
        "id": "DH6LerEwWRns"
      },
      "outputs": [],
      "source": [
        "imgs, labels = next(train_batches)"
      ]
    },
    {
      "cell_type": "code",
      "execution_count": null,
      "metadata": {
        "id": "R7L3MpeLWRlJ"
      },
      "outputs": [],
      "source": [
        "#This function will plot images in the form of a grid with 1 row and 10 columns where images are\n",
        "def plotImages (images_arr):\n",
        "    fig, axes= plt.subplots(1, 10, figsize=(20,20))\n",
        "    axes = axes.flatten()\n",
        "    for img, ax in zip( images_arr, axes):\n",
        "        ax.imshow(img)\n",
        "        ax.axis('off')\n",
        "    plt.tight_layout()\n",
        "    plt.show()"
      ]
    },
    {
      "cell_type": "code",
      "execution_count": null,
      "metadata": {
        "colab": {
          "base_uri": "https://localhost:8080/",
          "height": 477
        },
        "id": "5E9wELkgWRig",
        "outputId": "ccd69df5-45e2-4dd6-c9b5-13c8aa1848cf"
      },
      "outputs": [],
      "source": [
        "plotImages (imgs)\n",
        "print(labels)"
      ]
    },
    {
      "cell_type": "markdown",
      "metadata": {
        "id": "yzH0JgSnOzKf"
      },
      "source": [
        "MODEL Building"
      ]
    },
    {
      "cell_type": "code",
      "execution_count": null,
      "metadata": {
        "colab": {
          "base_uri": "https://localhost:8080/"
        },
        "id": "KPoX-dhcWRfz",
        "outputId": "a50acc9e-887f-4790-e983-8d79b70eb4e7"
      },
      "outputs": [],
      "source": [
        "ResNet152_model = tf.keras.applications.ResNet152(\n",
        "    include_top=True,\n",
        "    weights=\"imagenet\",\n",
        "    input_tensor=None,\n",
        "    input_shape=None,\n",
        "    pooling=None,\n",
        "    classes=1000,\n",
        "    classifier_activation=\"softmax\",\n",
        ")\n",
        "ResNet152_model. summary()"
      ]
    },
    {
      "cell_type": "code",
      "execution_count": null,
      "metadata": {
        "colab": {
          "base_uri": "https://localhost:8080/",
          "height": 186
        },
        "id": "Rchb8-HkWRdL",
        "outputId": "b5032add-0d32-413c-8b7d-8e85d4283d72"
      },
      "outputs": [],
      "source": [
        "type (ResNet152_model)"
      ]
    },
    {
      "cell_type": "code",
      "execution_count": null,
      "metadata": {
        "id": "xoIydqz5WRXt"
      },
      "outputs": [],
      "source": [
        "\n",
        "from tensorflow.keras.models import Model\n",
        "from tensorflow.keras.applications import ResNet152\n",
        "\n",
        "# Exclude the last layer\n",
        "model = Model(inputs=ResNet152_model.input, outputs=ResNet152_model.layers[-2].output)\n"
      ]
    },
    {
      "cell_type": "code",
      "execution_count": null,
      "metadata": {
        "colab": {
          "base_uri": "https://localhost:8080/"
        },
        "id": "rVQsQn5JWRVN",
        "outputId": "2316b85c-4679-48d4-a060-c12031ebfc6d"
      },
      "outputs": [],
      "source": [
        "model. summary()"
      ]
    },
    {
      "cell_type": "code",
      "execution_count": null,
      "metadata": {
        "id": "bll3w_3lWRSn"
      },
      "outputs": [],
      "source": [
        "for layer in model.layers:\n",
        "    layer.trainable = False"
      ]
    },
    {
      "cell_type": "code",
      "execution_count": null,
      "metadata": {
        "colab": {
          "base_uri": "https://localhost:8080/"
        },
        "id": "pKzU_7nmWRNE",
        "outputId": "e2d45320-bdfb-44a0-ce65-8877a877eeb4"
      },
      "outputs": [],
      "source": [
        "from tensorflow.keras.layers import Dense\n",
        "\n",
        "# Add a Dense layer with softmax activation\n",
        "output_layer = Dense(units=2, activation='softmax')(model.output)\n",
        "\n",
        "# Create a new model with DenseNet121 base and the new output layer\n",
        "model = Model(inputs=model.input, outputs=output_layer)\n",
        "\n",
        "# Display model summary\n",
        "model.summary()\n"
      ]
    },
    {
      "cell_type": "code",
      "execution_count": null,
      "metadata": {
        "id": "exWy632XWRBz"
      },
      "outputs": [],
      "source": [
        "\n",
        "# Compile the model\n",
        "model.compile(optimizer=Adam(learning_rate=0.001),loss='categorical_crossentropy',metrics=['accuracy'])"
      ]
    },
    {
      "cell_type": "code",
      "execution_count": null,
      "metadata": {
        "colab": {
          "base_uri": "https://localhost:8080/"
        },
        "id": "r6rzLJE4XFqL",
        "outputId": "76b03a59-62ea-4bb9-edf4-d305b329a7e1"
      },
      "outputs": [],
      "source": [
        "hist=model.fit(x=train_batches, validation_data=valid_batches, epochs=100, verbose=2)"
      ]
    },
    {
      "cell_type": "markdown",
      "metadata": {
        "id": "6OWEMsRwNzSB"
      },
      "source": [
        "Validation"
      ]
    },
    {
      "cell_type": "code",
      "execution_count": null,
      "metadata": {
        "colab": {
          "base_uri": "https://localhost:8080/"
        },
        "id": "yd86QXc7N4Lq",
        "outputId": "1add7d43-ee93-470f-b51d-e69076406608"
      },
      "outputs": [],
      "source": [
        "#Training set Accuracy\n",
        "train_loss, train_acc = model.evaluate(train_batches)\n",
        "print('Training accuracy:', train_acc)"
      ]
    },
    {
      "cell_type": "code",
      "execution_count": null,
      "metadata": {
        "colab": {
          "base_uri": "https://localhost:8080/"
        },
        "id": "LFQqVn1XNxrx",
        "outputId": "a780ce4c-471d-4b09-ef61-dabf0614cc53"
      },
      "outputs": [],
      "source": [
        "#Validation set Accuracy\n",
        "val_loss, val_acc = model.evaluate(valid_batches)\n",
        "print('Validation accuracy:', val_acc)"
      ]
    },
    {
      "cell_type": "code",
      "execution_count": null,
      "metadata": {
        "id": "YlSt6qiRNoT2"
      },
      "outputs": [],
      "source": [
        "model.save('model.keras')"
      ]
    },
    {
      "cell_type": "code",
      "execution_count": null,
      "metadata": {
        "colab": {
          "base_uri": "https://localhost:8080/"
        },
        "id": "60JrcRIhNoIf",
        "outputId": "8704e3fe-1e01-4354-fff3-0aa8854e2502"
      },
      "outputs": [],
      "source": [
        "hist.history #Return Dictionary of history"
      ]
    },
    {
      "cell_type": "code",
      "execution_count": null,
      "metadata": {
        "id": "DTK42VCLOIll"
      },
      "outputs": [],
      "source": [
        "#Recording History in json\n",
        "import json\n",
        "with open('training_hist.json','w') as f:\n",
        "  json.dump(hist.history,f)"
      ]
    },
    {
      "cell_type": "code",
      "execution_count": null,
      "metadata": {
        "colab": {
          "base_uri": "https://localhost:8080/"
        },
        "id": "luEtrbPaOIjK",
        "outputId": "c5a4585e-c02e-4cdf-aef9-07003efa0b37"
      },
      "outputs": [],
      "source": [
        "print(hist.history.keys())"
      ]
    },
    {
      "cell_type": "code",
      "execution_count": null,
      "metadata": {
        "colab": {
          "base_uri": "https://localhost:8080/",
          "height": 472
        },
        "id": "QSq5FOi4OIeb",
        "outputId": "1c5bca45-8f98-47cf-819e-3e6907467d9c"
      },
      "outputs": [],
      "source": [
        "plt.plot(range(1, len(hist.history['loss']) + 1), hist.history['loss'], color='red', label='Training Loss')\n",
        "plt.plot(range(1, len(hist.history['val_loss']) + 1), hist.history['val_loss'], color='blue', label='Validation Loss')\n",
        "plt.xlabel('No. of Epochs')\n",
        "plt.title('Visualization of Loss Result')\n",
        "plt.legend()\n",
        "plt.show()\n"
      ]
    },
    {
      "cell_type": "code",
      "execution_count": null,
      "metadata": {
        "colab": {
          "base_uri": "https://localhost:8080/",
          "height": 472
        },
        "id": "XiWl60g_OIbi",
        "outputId": "9b82c546-299a-4874-9b6b-c46d7433f16c"
      },
      "outputs": [],
      "source": [
        "plt.plot(range(1, len(hist.history['accuracy']) + 1), hist.history['accuracy'], color='red', label='Training Accuracy')\n",
        "plt.plot(range(1, len(hist.history['val_accuracy']) + 1), hist.history['val_accuracy'], color='blue', label='Validation Accuracy')\n",
        "plt.xlabel('No. of Epochs')\n",
        "plt.title('Visualization of Accuracy Result')\n",
        "plt.legend()\n",
        "plt.show()\n"
      ]
    },
    {
      "cell_type": "code",
      "execution_count": null,
      "metadata": {
        "id": "XhFNBBaTOIPt"
      },
      "outputs": [],
      "source": []
    },
    {
      "cell_type": "markdown",
      "metadata": {
        "id": "rTKp6iJMOWLY"
      },
      "source": [
        "Predict"
      ]
    },
    {
      "cell_type": "code",
      "execution_count": null,
      "metadata": {
        "id": "5bBZ9jQeXFnp"
      },
      "outputs": [],
      "source": [
        "predictions = model.predict(x=test_batches, verbose=0)"
      ]
    },
    {
      "cell_type": "code",
      "execution_count": null,
      "metadata": {
        "colab": {
          "base_uri": "https://localhost:8080/"
        },
        "id": "iOeTtiSRXFlH",
        "outputId": "40e6a031-1e1e-4d2b-cb25-48427fba4805"
      },
      "outputs": [],
      "source": [
        "test_batches.classes"
      ]
    },
    {
      "cell_type": "code",
      "execution_count": null,
      "metadata": {
        "id": "of_Ona0HXFib"
      },
      "outputs": [],
      "source": [
        "cm= confusion_matrix(y_true=test_batches.classes, y_pred=np.argmax (predictions, axis=-1))"
      ]
    },
    {
      "cell_type": "code",
      "execution_count": null,
      "metadata": {
        "colab": {
          "base_uri": "https://localhost:8080/"
        },
        "id": "fo7OCrpXXFf4",
        "outputId": "13642179-db16-4497-ea37-2a8a84c26eed"
      },
      "outputs": [],
      "source": [
        "test_batches.class_indices"
      ]
    },
    {
      "cell_type": "code",
      "execution_count": null,
      "metadata": {
        "colab": {
          "base_uri": "https://localhost:8080/",
          "height": 504
        },
        "id": "nh5IznqVXFdV",
        "outputId": "15e6d850-ec49-4352-b5c0-49d1e8c484ac"
      },
      "outputs": [],
      "source": [
        "import matplotlib.pyplot as plt\n",
        "from sklearn.metrics import confusion_matrix\n",
        "import numpy as np\n",
        "\n",
        "# Assuming 'cm' is your confusion matrix\n",
        "cm_plot_labels = ['DR', 'No_DR']\n",
        "\n",
        "def plot_confusion_matrix(cm, classes,\n",
        "                          normalize=False,\n",
        "                          title='Confusion matrix',\n",
        "                          cmap=plt.cm.Blues):\n",
        "    if normalize:\n",
        "        cm = cm.astype('float') / cm.sum(axis=1)[:, np.newaxis]\n",
        "        print(\"Normalized confusion matrix\")\n",
        "    else:\n",
        "        print('Confusion matrix, without normalization')\n",
        "\n",
        "    plt.imshow(cm, interpolation='nearest', cmap=cmap)\n",
        "    plt.title(title)\n",
        "    plt.colorbar()\n",
        "    tick_marks = np.arange(len(classes))\n",
        "    plt.xticks(tick_marks, classes, rotation=45)\n",
        "    plt.yticks(tick_marks, classes)\n",
        "\n",
        "    fmt = '.2f' if normalize else 'd'\n",
        "    thresh = cm.max() / 2.\n",
        "    for i in range(cm.shape[0]):\n",
        "        for j in range(cm.shape[1]):\n",
        "            plt.text(j, i, format(cm[i, j], fmt),\n",
        "                     horizontalalignment=\"center\",\n",
        "                     color=\"white\" if cm[i, j] > thresh else \"black\")\n",
        "\n",
        "    plt.ylabel('True label')\n",
        "    plt.xlabel('Predicted label')\n",
        "    plt.tight_layout()\n",
        "\n",
        "# Plot non-normalized confusion matrix\n",
        "plt.figure()\n",
        "plot_confusion_matrix(cm, classes=cm_plot_labels,\n",
        "                      title='Confusion Matrix')\n",
        "\n",
        "plt.show()\n"
      ]
    }
  ],
  "metadata": {
    "accelerator": "GPU",
    "colab": {
      "gpuType": "T4",
      "provenance": []
    },
    "kernelspec": {
      "display_name": "Python 3",
      "name": "python3"
    },
    "language_info": {
      "name": "python"
    }
  },
  "nbformat": 4,
  "nbformat_minor": 0
}
